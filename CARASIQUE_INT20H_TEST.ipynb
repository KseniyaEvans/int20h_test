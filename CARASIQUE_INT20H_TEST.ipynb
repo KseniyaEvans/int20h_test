{
  "nbformat": 4,
  "nbformat_minor": 0,
  "metadata": {
    "colab": {
      "name": "CARASIQUE_INT20H_TEST.ipynb",
      "provenance": [],
      "collapsed_sections": []
    },
    "kernelspec": {
      "name": "python3",
      "display_name": "Python 3"
    }
  },
  "cells": [
    {
      "cell_type": "code",
      "metadata": {
        "id": "i-F4lQI59Vry"
      },
      "source": [
        "import pandas as pd\n",
        "import numpy as np\n",
        "import matplotlib.pyplot as plt"
      ],
      "execution_count": null,
      "outputs": []
    },
    {
      "cell_type": "markdown",
      "metadata": {
        "id": "EygI-jTFAu5U"
      },
      "source": [
        "# Load the data\r\n",
        "  Change the *DATA_PATH* with your dataset location."
      ]
    },
    {
      "cell_type": "code",
      "metadata": {
        "colab": {
          "base_uri": "https://localhost:8080/",
          "height": 343
        },
        "id": "kysyjEWr9pOt",
        "outputId": "b1686a73-8a59-4a35-9224-937be8de460e"
      },
      "source": [
        "DATA_PATH = \"/content/data_analytics.csv\"\n",
        "\n",
        "\n",
        "data = pd.read_csv(DATA_PATH)\n",
        "data.head()"
      ],
      "execution_count": null,
      "outputs": [
        {
          "output_type": "execute_result",
          "data": {
            "text/html": [
              "<div>\n",
              "<style scoped>\n",
              "    .dataframe tbody tr th:only-of-type {\n",
              "        vertical-align: middle;\n",
              "    }\n",
              "\n",
              "    .dataframe tbody tr th {\n",
              "        vertical-align: top;\n",
              "    }\n",
              "\n",
              "    .dataframe thead th {\n",
              "        text-align: right;\n",
              "    }\n",
              "</style>\n",
              "<table border=\"1\" class=\"dataframe\">\n",
              "  <thead>\n",
              "    <tr style=\"text-align: right;\">\n",
              "      <th></th>\n",
              "      <th>Event Date</th>\n",
              "      <th>App Apple ID</th>\n",
              "      <th>Subscription Name</th>\n",
              "      <th>Standard Subscription Duration</th>\n",
              "      <th>Promotional Offer Name</th>\n",
              "      <th>Promotional Offer ID</th>\n",
              "      <th>Subscription Offer Type</th>\n",
              "      <th>Subscription Offer Duration</th>\n",
              "      <th>Marketing Opt-In Duration</th>\n",
              "      <th>Customer Currency</th>\n",
              "      <th>Proceeds Currency</th>\n",
              "      <th>Device</th>\n",
              "      <th>Country</th>\n",
              "      <th>Subscriber ID</th>\n",
              "      <th>Subscriber ID Reset</th>\n",
              "      <th>Refund</th>\n",
              "      <th>Purchase Date</th>\n",
              "      <th>Units</th>\n",
              "    </tr>\n",
              "  </thead>\n",
              "  <tbody>\n",
              "    <tr>\n",
              "      <th>0</th>\n",
              "      <td>2019-07-15</td>\n",
              "      <td>1</td>\n",
              "      <td>weekly 9.99 + 7D trial</td>\n",
              "      <td>7 Days</td>\n",
              "      <td>NaN</td>\n",
              "      <td>NaN</td>\n",
              "      <td>Free Trial</td>\n",
              "      <td>7 Days</td>\n",
              "      <td>NaN</td>\n",
              "      <td>IDR</td>\n",
              "      <td>IDR</td>\n",
              "      <td>iPhone</td>\n",
              "      <td>ID</td>\n",
              "      <td>223411322456765433</td>\n",
              "      <td>NaN</td>\n",
              "      <td>NaN</td>\n",
              "      <td>NaN</td>\n",
              "      <td>1</td>\n",
              "    </tr>\n",
              "    <tr>\n",
              "      <th>1</th>\n",
              "      <td>2019-07-15</td>\n",
              "      <td>1</td>\n",
              "      <td>weekly 9.99 + 7D trial</td>\n",
              "      <td>7 Days</td>\n",
              "      <td>NaN</td>\n",
              "      <td>NaN</td>\n",
              "      <td>Free Trial</td>\n",
              "      <td>7 Days</td>\n",
              "      <td>NaN</td>\n",
              "      <td>USD</td>\n",
              "      <td>USD</td>\n",
              "      <td>iPhone</td>\n",
              "      <td>US</td>\n",
              "      <td>223411322456765434</td>\n",
              "      <td>NaN</td>\n",
              "      <td>NaN</td>\n",
              "      <td>NaN</td>\n",
              "      <td>1</td>\n",
              "    </tr>\n",
              "    <tr>\n",
              "      <th>2</th>\n",
              "      <td>2019-07-15</td>\n",
              "      <td>1</td>\n",
              "      <td>weekly 9.99 + 7D trial</td>\n",
              "      <td>7 Days</td>\n",
              "      <td>NaN</td>\n",
              "      <td>NaN</td>\n",
              "      <td>Free Trial</td>\n",
              "      <td>7 Days</td>\n",
              "      <td>NaN</td>\n",
              "      <td>INR</td>\n",
              "      <td>INR</td>\n",
              "      <td>iPhone</td>\n",
              "      <td>IN</td>\n",
              "      <td>223411322456765435</td>\n",
              "      <td>NaN</td>\n",
              "      <td>NaN</td>\n",
              "      <td>NaN</td>\n",
              "      <td>1</td>\n",
              "    </tr>\n",
              "    <tr>\n",
              "      <th>3</th>\n",
              "      <td>2019-07-15</td>\n",
              "      <td>1</td>\n",
              "      <td>weekly 9.99 + 7D trial</td>\n",
              "      <td>7 Days</td>\n",
              "      <td>NaN</td>\n",
              "      <td>NaN</td>\n",
              "      <td>Free Trial</td>\n",
              "      <td>7 Days</td>\n",
              "      <td>NaN</td>\n",
              "      <td>GBP</td>\n",
              "      <td>GBP</td>\n",
              "      <td>iPhone</td>\n",
              "      <td>GB</td>\n",
              "      <td>223411322456765437</td>\n",
              "      <td>NaN</td>\n",
              "      <td>NaN</td>\n",
              "      <td>NaN</td>\n",
              "      <td>1</td>\n",
              "    </tr>\n",
              "    <tr>\n",
              "      <th>4</th>\n",
              "      <td>2019-07-15</td>\n",
              "      <td>1</td>\n",
              "      <td>weekly 9.99 + 7D trial</td>\n",
              "      <td>7 Days</td>\n",
              "      <td>NaN</td>\n",
              "      <td>NaN</td>\n",
              "      <td>Free Trial</td>\n",
              "      <td>7 Days</td>\n",
              "      <td>NaN</td>\n",
              "      <td>INR</td>\n",
              "      <td>INR</td>\n",
              "      <td>iPhone</td>\n",
              "      <td>IN</td>\n",
              "      <td>223411322456765438</td>\n",
              "      <td>NaN</td>\n",
              "      <td>NaN</td>\n",
              "      <td>NaN</td>\n",
              "      <td>1</td>\n",
              "    </tr>\n",
              "  </tbody>\n",
              "</table>\n",
              "</div>"
            ],
            "text/plain": [
              "   Event Date  App Apple ID  ... Purchase Date Units\n",
              "0  2019-07-15             1  ...           NaN     1\n",
              "1  2019-07-15             1  ...           NaN     1\n",
              "2  2019-07-15             1  ...           NaN     1\n",
              "3  2019-07-15             1  ...           NaN     1\n",
              "4  2019-07-15             1  ...           NaN     1\n",
              "\n",
              "[5 rows x 18 columns]"
            ]
          },
          "metadata": {
            "tags": []
          },
          "execution_count": 2
        }
      ]
    },
    {
      "cell_type": "code",
      "metadata": {
        "colab": {
          "base_uri": "https://localhost:8080/"
        },
        "id": "0XUJM6O4-7rH",
        "outputId": "91d949da-f9ea-4b39-b2ea-2c9ac4d83c44"
      },
      "source": [
        "data.info()"
      ],
      "execution_count": null,
      "outputs": [
        {
          "output_type": "stream",
          "text": [
            "<class 'pandas.core.frame.DataFrame'>\n",
            "RangeIndex: 2380 entries, 0 to 2379\n",
            "Data columns (total 18 columns):\n",
            " #   Column                          Non-Null Count  Dtype  \n",
            "---  ------                          --------------  -----  \n",
            " 0   Event Date                      2380 non-null   object \n",
            " 1   App Apple ID                    2380 non-null   int64  \n",
            " 2   Subscription Name               2380 non-null   object \n",
            " 3   Standard Subscription Duration  2380 non-null   object \n",
            " 4   Promotional Offer Name          0 non-null      float64\n",
            " 5   Promotional Offer ID            0 non-null      float64\n",
            " 6   Subscription Offer Type         1019 non-null   object \n",
            " 7   Subscription Offer Duration     1019 non-null   object \n",
            " 8   Marketing Opt-In Duration       0 non-null      float64\n",
            " 9   Customer Currency               2380 non-null   object \n",
            " 10  Proceeds Currency               2380 non-null   object \n",
            " 11  Device                          2380 non-null   object \n",
            " 12  Country                         2373 non-null   object \n",
            " 13  Subscriber ID                   2380 non-null   int64  \n",
            " 14  Subscriber ID Reset             4 non-null      object \n",
            " 15  Refund                          0 non-null      float64\n",
            " 16  Purchase Date                   0 non-null      float64\n",
            " 17  Units                           2380 non-null   int64  \n",
            "dtypes: float64(5), int64(3), object(10)\n",
            "memory usage: 334.8+ KB\n"
          ],
          "name": "stdout"
        }
      ]
    },
    {
      "cell_type": "markdown",
      "metadata": {
        "id": "emUHBNViBZf7"
      },
      "source": [
        "# Dataset preparation\r\n",
        "  Handling missing values and converting the date to usable format."
      ]
    },
    {
      "cell_type": "code",
      "metadata": {
        "colab": {
          "base_uri": "https://localhost:8080/",
          "height": 546
        },
        "id": "c37P1qmf_Ofu",
        "outputId": "4a42d07e-18e5-4d03-e38d-8ac6adfcc065"
      },
      "source": [
        "columns_to_drop = data.isnull().sum().sort_values(ascending = False)\n",
        "columns_to_drop = columns_to_drop[columns_to_drop > data.shape[0]-10].index\n",
        "data = data.drop(columns_to_drop, axis=1)\n",
        "\n",
        "data['Event Date'] = pd.to_datetime(data['Event Date'])\n",
        "\n",
        "data['Subscription Offer Type'] = data['Subscription Offer Type'].fillna(\"Subscription\")\n",
        "data.head(10)"
      ],
      "execution_count": null,
      "outputs": [
        {
          "output_type": "execute_result",
          "data": {
            "text/html": [
              "<div>\n",
              "<style scoped>\n",
              "    .dataframe tbody tr th:only-of-type {\n",
              "        vertical-align: middle;\n",
              "    }\n",
              "\n",
              "    .dataframe tbody tr th {\n",
              "        vertical-align: top;\n",
              "    }\n",
              "\n",
              "    .dataframe thead th {\n",
              "        text-align: right;\n",
              "    }\n",
              "</style>\n",
              "<table border=\"1\" class=\"dataframe\">\n",
              "  <thead>\n",
              "    <tr style=\"text-align: right;\">\n",
              "      <th></th>\n",
              "      <th>Event Date</th>\n",
              "      <th>App Apple ID</th>\n",
              "      <th>Subscription Name</th>\n",
              "      <th>Standard Subscription Duration</th>\n",
              "      <th>Subscription Offer Type</th>\n",
              "      <th>Subscription Offer Duration</th>\n",
              "      <th>Customer Currency</th>\n",
              "      <th>Proceeds Currency</th>\n",
              "      <th>Device</th>\n",
              "      <th>Country</th>\n",
              "      <th>Subscriber ID</th>\n",
              "      <th>Units</th>\n",
              "    </tr>\n",
              "  </thead>\n",
              "  <tbody>\n",
              "    <tr>\n",
              "      <th>0</th>\n",
              "      <td>2019-07-15</td>\n",
              "      <td>1</td>\n",
              "      <td>weekly 9.99 + 7D trial</td>\n",
              "      <td>7 Days</td>\n",
              "      <td>Free Trial</td>\n",
              "      <td>7 Days</td>\n",
              "      <td>IDR</td>\n",
              "      <td>IDR</td>\n",
              "      <td>iPhone</td>\n",
              "      <td>ID</td>\n",
              "      <td>223411322456765433</td>\n",
              "      <td>1</td>\n",
              "    </tr>\n",
              "    <tr>\n",
              "      <th>1</th>\n",
              "      <td>2019-07-15</td>\n",
              "      <td>1</td>\n",
              "      <td>weekly 9.99 + 7D trial</td>\n",
              "      <td>7 Days</td>\n",
              "      <td>Free Trial</td>\n",
              "      <td>7 Days</td>\n",
              "      <td>USD</td>\n",
              "      <td>USD</td>\n",
              "      <td>iPhone</td>\n",
              "      <td>US</td>\n",
              "      <td>223411322456765434</td>\n",
              "      <td>1</td>\n",
              "    </tr>\n",
              "    <tr>\n",
              "      <th>2</th>\n",
              "      <td>2019-07-15</td>\n",
              "      <td>1</td>\n",
              "      <td>weekly 9.99 + 7D trial</td>\n",
              "      <td>7 Days</td>\n",
              "      <td>Free Trial</td>\n",
              "      <td>7 Days</td>\n",
              "      <td>INR</td>\n",
              "      <td>INR</td>\n",
              "      <td>iPhone</td>\n",
              "      <td>IN</td>\n",
              "      <td>223411322456765435</td>\n",
              "      <td>1</td>\n",
              "    </tr>\n",
              "    <tr>\n",
              "      <th>3</th>\n",
              "      <td>2019-07-15</td>\n",
              "      <td>1</td>\n",
              "      <td>weekly 9.99 + 7D trial</td>\n",
              "      <td>7 Days</td>\n",
              "      <td>Free Trial</td>\n",
              "      <td>7 Days</td>\n",
              "      <td>GBP</td>\n",
              "      <td>GBP</td>\n",
              "      <td>iPhone</td>\n",
              "      <td>GB</td>\n",
              "      <td>223411322456765437</td>\n",
              "      <td>1</td>\n",
              "    </tr>\n",
              "    <tr>\n",
              "      <th>4</th>\n",
              "      <td>2019-07-15</td>\n",
              "      <td>1</td>\n",
              "      <td>weekly 9.99 + 7D trial</td>\n",
              "      <td>7 Days</td>\n",
              "      <td>Free Trial</td>\n",
              "      <td>7 Days</td>\n",
              "      <td>INR</td>\n",
              "      <td>INR</td>\n",
              "      <td>iPhone</td>\n",
              "      <td>IN</td>\n",
              "      <td>223411322456765438</td>\n",
              "      <td>1</td>\n",
              "    </tr>\n",
              "    <tr>\n",
              "      <th>5</th>\n",
              "      <td>2019-07-15</td>\n",
              "      <td>1</td>\n",
              "      <td>weekly 9.99 + 7D trial</td>\n",
              "      <td>7 Days</td>\n",
              "      <td>Free Trial</td>\n",
              "      <td>7 Days</td>\n",
              "      <td>USD</td>\n",
              "      <td>USD</td>\n",
              "      <td>iPhone</td>\n",
              "      <td>CR</td>\n",
              "      <td>223411322456765439</td>\n",
              "      <td>1</td>\n",
              "    </tr>\n",
              "    <tr>\n",
              "      <th>6</th>\n",
              "      <td>2019-07-15</td>\n",
              "      <td>1</td>\n",
              "      <td>weekly 9.99 + 7D trial</td>\n",
              "      <td>7 Days</td>\n",
              "      <td>Free Trial</td>\n",
              "      <td>7 Days</td>\n",
              "      <td>THB</td>\n",
              "      <td>THB</td>\n",
              "      <td>iPhone</td>\n",
              "      <td>TH</td>\n",
              "      <td>223411322456765441</td>\n",
              "      <td>1</td>\n",
              "    </tr>\n",
              "    <tr>\n",
              "      <th>7</th>\n",
              "      <td>2019-07-15</td>\n",
              "      <td>1</td>\n",
              "      <td>weekly 9.99 + 7D trial</td>\n",
              "      <td>7 Days</td>\n",
              "      <td>Free Trial</td>\n",
              "      <td>7 Days</td>\n",
              "      <td>TRY</td>\n",
              "      <td>TRY</td>\n",
              "      <td>iPhone</td>\n",
              "      <td>TR</td>\n",
              "      <td>223411322456765442</td>\n",
              "      <td>1</td>\n",
              "    </tr>\n",
              "    <tr>\n",
              "      <th>8</th>\n",
              "      <td>2019-07-15</td>\n",
              "      <td>1</td>\n",
              "      <td>weekly 9.99 + 7D trial</td>\n",
              "      <td>7 Days</td>\n",
              "      <td>Free Trial</td>\n",
              "      <td>7 Days</td>\n",
              "      <td>TZS</td>\n",
              "      <td>TZS</td>\n",
              "      <td>iPhone</td>\n",
              "      <td>TZ</td>\n",
              "      <td>223411322456765443</td>\n",
              "      <td>1</td>\n",
              "    </tr>\n",
              "    <tr>\n",
              "      <th>9</th>\n",
              "      <td>2019-07-15</td>\n",
              "      <td>1</td>\n",
              "      <td>weekly 9.99 + 7D trial</td>\n",
              "      <td>7 Days</td>\n",
              "      <td>Free Trial</td>\n",
              "      <td>7 Days</td>\n",
              "      <td>QAR</td>\n",
              "      <td>QAR</td>\n",
              "      <td>iPhone</td>\n",
              "      <td>QA</td>\n",
              "      <td>223411322456765445</td>\n",
              "      <td>1</td>\n",
              "    </tr>\n",
              "  </tbody>\n",
              "</table>\n",
              "</div>"
            ],
            "text/plain": [
              "  Event Date  App Apple ID  ...       Subscriber ID Units\n",
              "0 2019-07-15             1  ...  223411322456765433     1\n",
              "1 2019-07-15             1  ...  223411322456765434     1\n",
              "2 2019-07-15             1  ...  223411322456765435     1\n",
              "3 2019-07-15             1  ...  223411322456765437     1\n",
              "4 2019-07-15             1  ...  223411322456765438     1\n",
              "5 2019-07-15             1  ...  223411322456765439     1\n",
              "6 2019-07-15             1  ...  223411322456765441     1\n",
              "7 2019-07-15             1  ...  223411322456765442     1\n",
              "8 2019-07-15             1  ...  223411322456765443     1\n",
              "9 2019-07-15             1  ...  223411322456765445     1\n",
              "\n",
              "[10 rows x 12 columns]"
            ]
          },
          "metadata": {
            "tags": []
          },
          "execution_count": 4
        }
      ]
    },
    {
      "cell_type": "markdown",
      "metadata": {
        "id": "Vb5XhCB8DXvA"
      },
      "source": [
        "Calculating the number of subscriptions per each week."
      ]
    },
    {
      "cell_type": "code",
      "metadata": {
        "colab": {
          "base_uri": "https://localhost:8080/"
        },
        "id": "pgpXJ5PWaQAO",
        "outputId": "d7b5b63e-8237-4ec4-81ff-39c90ada3f60"
      },
      "source": [
        "grouped = data.groupby(\"Subscriber ID\")['Event Date'].count()\n",
        "weekly_subscription = [len(grouped[grouped > x]) for x in range(0, 6)]\n",
        "weekly_subscription"
      ],
      "execution_count": null,
      "outputs": [
        {
          "output_type": "execute_result",
          "data": {
            "text/plain": [
              "[1019, 499, 353, 262, 155, 92]"
            ]
          },
          "metadata": {
            "tags": []
          },
          "execution_count": 5
        }
      ]
    },
    {
      "cell_type": "markdown",
      "metadata": {
        "id": "pNiZmKABD9Mr"
      },
      "source": [
        "Using the LTV formula to calculate total Lifetime Value"
      ]
    },
    {
      "cell_type": "code",
      "metadata": {
        "id": "Ee_SRpuVe1u9"
      },
      "source": [
        "APPLE_FEE = 0.7\n",
        "SUBSCRIPTION_PRICE = 9.99\n",
        "DEV_PROCEEDS = APPLE_FEE*SUBSCRIPTION_PRICE\n",
        "trial_users = len(data.groupby(\"Subscriber ID\"))\n",
        "\n",
        "sub_for_formula = np.zeros(5)\n",
        "sub_for_formula[0] = DEV_PROCEEDS * weekly_subscription[1]/weekly_subscription[0]\n",
        "\n",
        "for i in range(1, 5):\n",
        "  sub_for_formula[i] = sub_for_formula[i-1]*weekly_subscription[i]/weekly_subscription[i-1]\n",
        "\n",
        "LTV = sum(sub_for_formula)"
      ],
      "execution_count": null,
      "outputs": []
    },
    {
      "cell_type": "code",
      "metadata": {
        "colab": {
          "base_uri": "https://localhost:8080/"
        },
        "id": "mRvTDcUL4WTq",
        "outputId": "c25820e9-6f65-475c-a9b0-181ed59d77a8"
      },
      "source": [
        "print(\"LTV = \", LTV)"
      ],
      "execution_count": null,
      "outputs": [
        {
          "output_type": "stream",
          "text": [
            "LTV =  7.689033020307965\n"
          ],
          "name": "stdout"
        }
      ]
    },
    {
      "cell_type": "markdown",
      "metadata": {
        "id": "kxsbLFGpE0M0"
      },
      "source": [
        "# **LTV ~ 7.7 $**\r\n",
        "\r\n",
        "LTV is fairly low, which is not surprising considering our conversion rate. We may also plot the number of subscriptions per week to show our CEO why we should change our business model."
      ]
    },
    {
      "cell_type": "code",
      "metadata": {
        "colab": {
          "base_uri": "https://localhost:8080/",
          "height": 530
        },
        "id": "GxsBkpAw7Xw0",
        "outputId": "3128da43-3e26-4396-89ac-fbee892c076c"
      },
      "source": [
        "fig, ax = plt.subplots(figsize=(10, 8))\r\n",
        "ax.grid()\r\n",
        "ax.plot([x for x in range(0, 6)], weekly_subscription)\r\n",
        "\r\n",
        "ax.set_yticks(np.arange(0, max(weekly_subscription), 100))\r\n",
        "\r\n",
        "ax.set_title('Subscriptions per week')\r\n",
        "ax.set_xlabel('Week number')\r\n",
        "ax.set_ylabel('Number of subscriptions')"
      ],
      "execution_count": null,
      "outputs": [
        {
          "output_type": "execute_result",
          "data": {
            "text/plain": [
              "Text(0, 0.5, 'Number of subscriptions')"
            ]
          },
          "metadata": {
            "tags": []
          },
          "execution_count": 34
        },
        {
          "output_type": "display_data",
          "data": {
            "image/png": "[encoded data removed]",
            "text/plain": [
              "<Figure size 720x576 with 1 Axes>"
            ]
          },
          "metadata": {
            "tags": [],
            "needs_background": "light"
          }
        }
      ]
    }
  ]
}